{
 "cells": [
  {
   "cell_type": "code",
   "execution_count": 1,
   "id": "cdbd580a",
   "metadata": {},
   "outputs": [],
   "source": [
    "import numpy as np\n",
    "import joblib as jb"
   ]
  },
  {
   "cell_type": "code",
   "execution_count": 2,
   "id": "bb89fffb",
   "metadata": {},
   "outputs": [],
   "source": [
    "a=jb.load('wine_quality_prediction.joblib')"
   ]
  },
  {
   "cell_type": "code",
   "execution_count": 5,
   "id": "747ca6a0",
   "metadata": {},
   "outputs": [
    {
     "name": "stdout",
     "output_type": "stream",
     "text": [
      "The Quality Of Wine Is Good\n"
     ]
    },
    {
     "name": "stderr",
     "output_type": "stream",
     "text": [
      "C:\\Users\\91821\\anaconda3\\lib\\site-packages\\sklearn\\base.py:450: UserWarning: X does not have valid feature names, but RandomForestClassifier was fitted with feature names\n",
      "  warnings.warn(\n"
     ]
    }
   ],
   "source": [
    "input_data=(7.3,0.65,0.0,1.2,0.065,15.0,21.0,0.9946,3.39,0.47,10.0)\n",
    "input_data_as_np_array=np.asarray(input_data)\n",
    "input_data_reshape=input_data_as_np_array.reshape(1,-1)\n",
    "prediction=a.predict(input_data_reshape)\n",
    "if(prediction[0]==1):\n",
    "    print(\"The Quality Of Wine Is Good\")\n",
    "else:\n",
    "    print(\"The Quality Of Wine Is Bad\")"
   ]
  },
  {
   "cell_type": "code",
   "execution_count": null,
   "id": "604e4ddd",
   "metadata": {},
   "outputs": [],
   "source": []
  }
 ],
 "metadata": {
  "kernelspec": {
   "display_name": "Python 3 (ipykernel)",
   "language": "python",
   "name": "python3"
  },
  "language_info": {
   "codemirror_mode": {
    "name": "ipython",
    "version": 3
   },
   "file_extension": ".py",
   "mimetype": "text/x-python",
   "name": "python",
   "nbconvert_exporter": "python",
   "pygments_lexer": "ipython3",
   "version": "3.9.13"
  }
 },
 "nbformat": 4,
 "nbformat_minor": 5
}
