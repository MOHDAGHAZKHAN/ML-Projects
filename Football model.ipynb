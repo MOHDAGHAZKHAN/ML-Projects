{
 "cells": [
  {
   "cell_type": "code",
   "execution_count": 58,
   "id": "38f2321b",
   "metadata": {},
   "outputs": [],
   "source": [
    "import numpy as np\n",
    "import pandas as pd\n",
    "import matplotlib.pyplot as plt\n",
    "import seaborn as sns\n",
    "from sklearn.model_selection import train_test_split\n",
    "from sklearn.preprocessing import MinMaxScaler\n",
    "from sklearn.metrics import accuracy_score\n",
    "from sklearn.ensemble import RandomForestClassifier"
   ]
  },
  {
   "cell_type": "code",
   "execution_count": 59,
   "id": "4bd74265",
   "metadata": {},
   "outputs": [],
   "source": [
    "data=pd.read_csv('football data.csv')"
   ]
  },
  {
   "cell_type": "code",
   "execution_count": 60,
   "id": "56ff4bf6",
   "metadata": {},
   "outputs": [
    {
     "name": "stdout",
     "output_type": "stream",
     "text": [
      "<class 'pandas.core.frame.DataFrame'>\n",
      "RangeIndex: 24 entries, 0 to 23\n",
      "Data columns (total 9 columns):\n",
      " #   Column                Non-Null Count  Dtype\n",
      "---  ------                --------------  -----\n",
      " 0   Match                 24 non-null     int64\n",
      " 1   teamID                24 non-null     int64\n",
      " 2   Possession (%)        24 non-null     int64\n",
      " 3    Total attempts       24 non-null     int64\n",
      " 4   Passing accuracy (%)  24 non-null     int64\n",
      " 5   Saves                 24 non-null     int64\n",
      " 6   Goals                 24 non-null     int64\n",
      " 7   Team strategy         24 non-null     int64\n",
      " 8   Result                24 non-null     int64\n",
      "dtypes: int64(9)\n",
      "memory usage: 1.8 KB\n"
     ]
    }
   ],
   "source": [
    "data.info()"
   ]
  },
  {
   "cell_type": "code",
   "execution_count": 61,
   "id": "072bf22a",
   "metadata": {},
   "outputs": [
    {
     "data": {
      "text/html": [
       "<div>\n",
       "<style scoped>\n",
       "    .dataframe tbody tr th:only-of-type {\n",
       "        vertical-align: middle;\n",
       "    }\n",
       "\n",
       "    .dataframe tbody tr th {\n",
       "        vertical-align: top;\n",
       "    }\n",
       "\n",
       "    .dataframe thead th {\n",
       "        text-align: right;\n",
       "    }\n",
       "</style>\n",
       "<table border=\"1\" class=\"dataframe\">\n",
       "  <thead>\n",
       "    <tr style=\"text-align: right;\">\n",
       "      <th></th>\n",
       "      <th>Match</th>\n",
       "      <th>teamID</th>\n",
       "      <th>Possession (%)</th>\n",
       "      <th>Total attempts</th>\n",
       "      <th>Passing accuracy (%)</th>\n",
       "      <th>Saves</th>\n",
       "      <th>Goals</th>\n",
       "      <th>Team strategy</th>\n",
       "      <th>Result</th>\n",
       "    </tr>\n",
       "  </thead>\n",
       "  <tbody>\n",
       "    <tr>\n",
       "      <th>0</th>\n",
       "      <td>1</td>\n",
       "      <td>1</td>\n",
       "      <td>62</td>\n",
       "      <td>12</td>\n",
       "      <td>92</td>\n",
       "      <td>3</td>\n",
       "      <td>1</td>\n",
       "      <td>1</td>\n",
       "      <td>2</td>\n",
       "    </tr>\n",
       "    <tr>\n",
       "      <th>1</th>\n",
       "      <td>2</td>\n",
       "      <td>2</td>\n",
       "      <td>57</td>\n",
       "      <td>18</td>\n",
       "      <td>86</td>\n",
       "      <td>2</td>\n",
       "      <td>1</td>\n",
       "      <td>2</td>\n",
       "      <td>1</td>\n",
       "    </tr>\n",
       "    <tr>\n",
       "      <th>2</th>\n",
       "      <td>3</td>\n",
       "      <td>2</td>\n",
       "      <td>49</td>\n",
       "      <td>9</td>\n",
       "      <td>86</td>\n",
       "      <td>11</td>\n",
       "      <td>0</td>\n",
       "      <td>2</td>\n",
       "      <td>0</td>\n",
       "    </tr>\n",
       "    <tr>\n",
       "      <th>3</th>\n",
       "      <td>4</td>\n",
       "      <td>2</td>\n",
       "      <td>32</td>\n",
       "      <td>5</td>\n",
       "      <td>80</td>\n",
       "      <td>2</td>\n",
       "      <td>1</td>\n",
       "      <td>2</td>\n",
       "      <td>1</td>\n",
       "    </tr>\n",
       "    <tr>\n",
       "      <th>4</th>\n",
       "      <td>5</td>\n",
       "      <td>2</td>\n",
       "      <td>59</td>\n",
       "      <td>21</td>\n",
       "      <td>92</td>\n",
       "      <td>1</td>\n",
       "      <td>4</td>\n",
       "      <td>2</td>\n",
       "      <td>1</td>\n",
       "    </tr>\n",
       "  </tbody>\n",
       "</table>\n",
       "</div>"
      ],
      "text/plain": [
       "   Match  teamID  Possession (%)   Total attempts  Passing accuracy (%)  \\\n",
       "0      1       1              62               12                    92   \n",
       "1      2       2              57               18                    86   \n",
       "2      3       2              49                9                    86   \n",
       "3      4       2              32                5                    80   \n",
       "4      5       2              59               21                    92   \n",
       "\n",
       "   Saves  Goals  Team strategy  Result  \n",
       "0      3      1              1       2  \n",
       "1      2      1              2       1  \n",
       "2     11      0              2       0  \n",
       "3      2      1              2       1  \n",
       "4      1      4              2       1  "
      ]
     },
     "execution_count": 61,
     "metadata": {},
     "output_type": "execute_result"
    }
   ],
   "source": [
    "data.head()"
   ]
  },
  {
   "cell_type": "code",
   "execution_count": 62,
   "id": "d2470d08",
   "metadata": {},
   "outputs": [
    {
     "data": {
      "text/plain": [
       "(24, 9)"
      ]
     },
     "execution_count": 62,
     "metadata": {},
     "output_type": "execute_result"
    }
   ],
   "source": [
    "data.shape"
   ]
  },
  {
   "cell_type": "code",
   "execution_count": 80,
   "id": "2814f893",
   "metadata": {},
   "outputs": [
    {
     "data": {
      "text/plain": [
       "1    14\n",
       "2     8\n",
       "0     2\n",
       "Name: Result, dtype: int64"
      ]
     },
     "execution_count": 80,
     "metadata": {},
     "output_type": "execute_result"
    }
   ],
   "source": [
    "data['Result'].value_counts()"
   ]
  },
  {
   "cell_type": "code",
   "execution_count": 66,
   "id": "f2c7cd0e",
   "metadata": {},
   "outputs": [],
   "source": [
    "X=data.drop(columns=['Match','Result'],axis=1)\n",
    "Y=data['Result']"
   ]
  },
  {
   "cell_type": "code",
   "execution_count": 67,
   "id": "aeda94e6",
   "metadata": {},
   "outputs": [
    {
     "data": {
      "text/html": [
       "<div>\n",
       "<style scoped>\n",
       "    .dataframe tbody tr th:only-of-type {\n",
       "        vertical-align: middle;\n",
       "    }\n",
       "\n",
       "    .dataframe tbody tr th {\n",
       "        vertical-align: top;\n",
       "    }\n",
       "\n",
       "    .dataframe thead th {\n",
       "        text-align: right;\n",
       "    }\n",
       "</style>\n",
       "<table border=\"1\" class=\"dataframe\">\n",
       "  <thead>\n",
       "    <tr style=\"text-align: right;\">\n",
       "      <th></th>\n",
       "      <th>teamID</th>\n",
       "      <th>Possession (%)</th>\n",
       "      <th>Total attempts</th>\n",
       "      <th>Passing accuracy (%)</th>\n",
       "      <th>Saves</th>\n",
       "      <th>Goals</th>\n",
       "      <th>Team strategy</th>\n",
       "    </tr>\n",
       "  </thead>\n",
       "  <tbody>\n",
       "    <tr>\n",
       "      <th>0</th>\n",
       "      <td>1</td>\n",
       "      <td>62</td>\n",
       "      <td>12</td>\n",
       "      <td>92</td>\n",
       "      <td>3</td>\n",
       "      <td>1</td>\n",
       "      <td>1</td>\n",
       "    </tr>\n",
       "    <tr>\n",
       "      <th>1</th>\n",
       "      <td>2</td>\n",
       "      <td>57</td>\n",
       "      <td>18</td>\n",
       "      <td>86</td>\n",
       "      <td>2</td>\n",
       "      <td>1</td>\n",
       "      <td>2</td>\n",
       "    </tr>\n",
       "    <tr>\n",
       "      <th>2</th>\n",
       "      <td>2</td>\n",
       "      <td>49</td>\n",
       "      <td>9</td>\n",
       "      <td>86</td>\n",
       "      <td>11</td>\n",
       "      <td>0</td>\n",
       "      <td>2</td>\n",
       "    </tr>\n",
       "    <tr>\n",
       "      <th>3</th>\n",
       "      <td>2</td>\n",
       "      <td>32</td>\n",
       "      <td>5</td>\n",
       "      <td>80</td>\n",
       "      <td>2</td>\n",
       "      <td>1</td>\n",
       "      <td>2</td>\n",
       "    </tr>\n",
       "    <tr>\n",
       "      <th>4</th>\n",
       "      <td>2</td>\n",
       "      <td>59</td>\n",
       "      <td>21</td>\n",
       "      <td>92</td>\n",
       "      <td>1</td>\n",
       "      <td>4</td>\n",
       "      <td>2</td>\n",
       "    </tr>\n",
       "  </tbody>\n",
       "</table>\n",
       "</div>"
      ],
      "text/plain": [
       "   teamID  Possession (%)   Total attempts  Passing accuracy (%)  Saves  \\\n",
       "0       1              62               12                    92      3   \n",
       "1       2              57               18                    86      2   \n",
       "2       2              49                9                    86     11   \n",
       "3       2              32                5                    80      2   \n",
       "4       2              59               21                    92      1   \n",
       "\n",
       "   Goals  Team strategy  \n",
       "0      1              1  \n",
       "1      1              2  \n",
       "2      0              2  \n",
       "3      1              2  \n",
       "4      4              2  "
      ]
     },
     "execution_count": 67,
     "metadata": {},
     "output_type": "execute_result"
    }
   ],
   "source": [
    "X.head()"
   ]
  },
  {
   "cell_type": "code",
   "execution_count": 68,
   "id": "e9073fd7",
   "metadata": {},
   "outputs": [
    {
     "data": {
      "text/plain": [
       "(24, 7)"
      ]
     },
     "execution_count": 68,
     "metadata": {},
     "output_type": "execute_result"
    }
   ],
   "source": [
    "X.shape"
   ]
  },
  {
   "cell_type": "code",
   "execution_count": 69,
   "id": "18bab8b9",
   "metadata": {},
   "outputs": [
    {
     "data": {
      "text/plain": [
       "0    2\n",
       "1    1\n",
       "2    0\n",
       "3    1\n",
       "4    1\n",
       "Name: Result, dtype: int64"
      ]
     },
     "execution_count": 69,
     "metadata": {},
     "output_type": "execute_result"
    }
   ],
   "source": [
    "Y.head()"
   ]
  },
  {
   "cell_type": "code",
   "execution_count": 70,
   "id": "2ff997d5",
   "metadata": {},
   "outputs": [
    {
     "data": {
      "text/plain": [
       "(24,)"
      ]
     },
     "execution_count": 70,
     "metadata": {},
     "output_type": "execute_result"
    }
   ],
   "source": [
    "Y.shape"
   ]
  },
  {
   "cell_type": "code",
   "execution_count": 71,
   "id": "816c2142",
   "metadata": {},
   "outputs": [
    {
     "name": "stdout",
     "output_type": "stream",
     "text": [
      "[[0.         0.73170732 0.28       0.95       0.2        0.14285714\n",
      "  0.        ]\n",
      " [1.         0.6097561  0.52       0.65       0.1        0.14285714\n",
      "  1.        ]\n",
      " [1.         0.41463415 0.16       0.65       1.         0.\n",
      "  1.        ]\n",
      " [1.         0.         0.         0.35       0.1        0.14285714\n",
      "  1.        ]\n",
      " [1.         0.65853659 0.64       0.95       0.         0.57142857\n",
      "  1.        ]\n",
      " [1.         0.90243902 0.52       0.9        0.         0.28571429\n",
      "  1.        ]\n",
      " [1.         0.29268293 0.28       0.         0.7        0.42857143\n",
      "  1.        ]\n",
      " [1.         0.31707317 0.08       0.5        0.5        0.\n",
      "  1.        ]\n",
      " [1.         0.07317073 0.24       0.         0.4        0.\n",
      "  1.        ]\n",
      " [1.         0.26829268 0.16       0.65       0.1        0.28571429\n",
      "  1.        ]\n",
      " [1.         0.2195122  0.24       0.4        0.1        0.42857143\n",
      "  1.        ]\n",
      " [1.         0.26829268 0.52       0.4        0.1        0.28571429\n",
      "  1.        ]\n",
      " [1.         0.26829268 0.4        0.5        0.         0.14285714\n",
      "  1.        ]\n",
      " [0.         0.68292683 0.76       0.9        0.         0.57142857\n",
      "  0.        ]\n",
      " [0.         0.7804878  0.28       0.85       0.         0.28571429\n",
      "  0.        ]\n",
      " [0.         1.         1.         1.         0.         0.71428571\n",
      "  0.        ]\n",
      " [0.         0.63414634 0.36       0.9        0.         0.\n",
      "  0.        ]\n",
      " [0.         0.92682927 0.12       1.         0.3        0.\n",
      "  0.        ]\n",
      " [0.         0.19512195 0.08       0.8        0.3        0.42857143\n",
      "  0.        ]\n",
      " [0.         0.73170732 0.68       0.9        0.         1.\n",
      "  0.        ]\n",
      " [0.         0.34146341 0.48       0.5        0.3        0.42857143\n",
      "  0.        ]\n",
      " [0.         0.56097561 0.52       0.8        0.         0.14285714\n",
      "  0.        ]\n",
      " [0.         0.6097561  0.2        0.95       0.1        0.14285714\n",
      "  0.        ]\n",
      " [0.         0.70731707 0.44       0.85       0.2        0.57142857\n",
      "  0.        ]]\n"
     ]
    }
   ],
   "source": [
    "scaler = MinMaxScaler()\n",
    "normalized_features = scaler.fit_transform(X)\n",
    "X=normalized_features\n",
    "print(X)"
   ]
  },
  {
   "cell_type": "code",
   "execution_count": 72,
   "id": "67581d79",
   "metadata": {},
   "outputs": [],
   "source": [
    "X_train,X_test,Y_train,Y_test=train_test_split(X,Y,test_size=.10,stratify=Y)"
   ]
  },
  {
   "cell_type": "code",
   "execution_count": 73,
   "id": "e732143d",
   "metadata": {},
   "outputs": [
    {
     "data": {
      "text/plain": [
       "RandomForestClassifier()"
      ]
     },
     "execution_count": 73,
     "metadata": {},
     "output_type": "execute_result"
    }
   ],
   "source": [
    "classifier = RandomForestClassifier()\n",
    "classifier.fit(X_train,Y_train)"
   ]
  },
  {
   "cell_type": "code",
   "execution_count": 74,
   "id": "58b4534c",
   "metadata": {},
   "outputs": [
    {
     "data": {
      "text/plain": [
       "1.0"
      ]
     },
     "execution_count": 74,
     "metadata": {},
     "output_type": "execute_result"
    }
   ],
   "source": [
    "predictions_train=classifier.predict(X_train)\n",
    "score=accuracy_score(predictions_train,Y_train)\n",
    "score"
   ]
  },
  {
   "cell_type": "code",
   "execution_count": 75,
   "id": "f314563d",
   "metadata": {},
   "outputs": [
    {
     "data": {
      "text/plain": [
       "1.0"
      ]
     },
     "execution_count": 75,
     "metadata": {},
     "output_type": "execute_result"
    }
   ],
   "source": [
    "prediction_test=classifier.predict(X_test)\n",
    "score_test=accuracy_score(prediction_test,Y_test)\n",
    "score_test"
   ]
  },
  {
   "cell_type": "code",
   "execution_count": 76,
   "id": "1de5097d",
   "metadata": {},
   "outputs": [
    {
     "name": "stderr",
     "output_type": "stream",
     "text": [
      "C:\\Users\\91821\\anaconda3\\lib\\site-packages\\sklearn\\base.py:450: UserWarning: X does not have valid feature names, but MinMaxScaler was fitted with feature names\n",
      "  warnings.warn(\n"
     ]
    }
   ],
   "source": [
    "input_data=np.array([[2,49,9,86,11,0,2]])\n",
    "normalized= scaler.transform(input_data)"
   ]
  },
  {
   "cell_type": "code",
   "execution_count": 81,
   "id": "6d4ab8d8",
   "metadata": {},
   "outputs": [
    {
     "data": {
      "text/html": [
       "<div>\n",
       "<style scoped>\n",
       "    .dataframe tbody tr th:only-of-type {\n",
       "        vertical-align: middle;\n",
       "    }\n",
       "\n",
       "    .dataframe tbody tr th {\n",
       "        vertical-align: top;\n",
       "    }\n",
       "\n",
       "    .dataframe thead th {\n",
       "        text-align: right;\n",
       "    }\n",
       "</style>\n",
       "<table border=\"1\" class=\"dataframe\">\n",
       "  <thead>\n",
       "    <tr style=\"text-align: right;\">\n",
       "      <th></th>\n",
       "      <th>Match</th>\n",
       "      <th>Possession (%)</th>\n",
       "      <th>Total attempts</th>\n",
       "      <th>Passing accuracy (%)</th>\n",
       "      <th>Saves</th>\n",
       "      <th>Goals</th>\n",
       "      <th>Team strategy</th>\n",
       "      <th>Result</th>\n",
       "    </tr>\n",
       "    <tr>\n",
       "      <th>teamID</th>\n",
       "      <th></th>\n",
       "      <th></th>\n",
       "      <th></th>\n",
       "      <th></th>\n",
       "      <th></th>\n",
       "      <th></th>\n",
       "      <th></th>\n",
       "      <th></th>\n",
       "    </tr>\n",
       "  </thead>\n",
       "  <tbody>\n",
       "    <tr>\n",
       "      <th>1</th>\n",
       "      <td>17.5</td>\n",
       "      <td>59.000000</td>\n",
       "      <td>15.833333</td>\n",
       "      <td>90.333333</td>\n",
       "      <td>2.166667</td>\n",
       "      <td>2.583333</td>\n",
       "      <td>1.0</td>\n",
       "      <td>1.416667</td>\n",
       "    </tr>\n",
       "    <tr>\n",
       "      <th>2</th>\n",
       "      <td>7.5</td>\n",
       "      <td>46.666667</td>\n",
       "      <td>12.833333</td>\n",
       "      <td>82.916667</td>\n",
       "      <td>3.583333</td>\n",
       "      <td>1.583333</td>\n",
       "      <td>2.0</td>\n",
       "      <td>1.083333</td>\n",
       "    </tr>\n",
       "  </tbody>\n",
       "</table>\n",
       "</div>"
      ],
      "text/plain": [
       "        Match  Possession (%)   Total attempts  Passing accuracy (%)  \\\n",
       "teamID                                                                 \n",
       "1        17.5       59.000000        15.833333             90.333333   \n",
       "2         7.5       46.666667        12.833333             82.916667   \n",
       "\n",
       "           Saves     Goals  Team strategy    Result  \n",
       "teamID                                               \n",
       "1       2.166667  2.583333            1.0  1.416667  \n",
       "2       3.583333  1.583333            2.0  1.083333  "
      ]
     },
     "execution_count": 81,
     "metadata": {},
     "output_type": "execute_result"
    }
   ],
   "source": [
    "data.groupby('teamID').mean()"
   ]
  },
  {
   "cell_type": "code",
   "execution_count": 92,
   "id": "cad24dd6",
   "metadata": {},
   "outputs": [
    {
     "name": "stderr",
     "output_type": "stream",
     "text": [
      "C:\\Users\\91821\\anaconda3\\lib\\site-packages\\sklearn\\base.py:450: UserWarning: X does not have valid feature names, but MinMaxScaler was fitted with feature names\n",
      "  warnings.warn(\n"
     ]
    }
   ],
   "source": [
    "\n",
    "input_data_i=np.array([[2,46,12,82,3.5,1.5,2]])\n",
    "normalized_i= scaler.transform(input_data_mc)\n",
    "predictions_i=classifier.predict(normalized_mc)"
   ]
  },
  {
   "cell_type": "code",
   "execution_count": 93,
   "id": "d01192be",
   "metadata": {},
   "outputs": [
    {
     "name": "stderr",
     "output_type": "stream",
     "text": [
      "C:\\Users\\91821\\anaconda3\\lib\\site-packages\\sklearn\\base.py:450: UserWarning: X does not have valid feature names, but MinMaxScaler was fitted with feature names\n",
      "  warnings.warn(\n"
     ]
    }
   ],
   "source": [
    "input_data_mc=np.array([[1,59,15,90,2.1,2.5,1]])\n",
    "normalized_mc= scaler.transform(input_data_mc)\n",
    "predictions_mc=classifier.predict(normalized_mc)"
   ]
  },
  {
   "cell_type": "code",
   "execution_count": 94,
   "id": "30042e4f",
   "metadata": {},
   "outputs": [
    {
     "name": "stdout",
     "output_type": "stream",
     "text": [
      "The best team for the Champions League Final between Manchester City and Inter Milan is: Inter Milan\n"
     ]
    }
   ],
   "source": [
    "if predictions_mc > predictions_i:\n",
    "    best_team = \"Manchester City\"\n",
    "else:\n",
    "    best_team = \"Inter Milan\"\n",
    "    print(\"The best team for the Champions League Final between Manchester City and Inter Milan is:\", best_team)"
   ]
  },
  {
   "cell_type": "code",
   "execution_count": null,
   "id": "7a6fbf71",
   "metadata": {},
   "outputs": [],
   "source": []
  }
 ],
 "metadata": {
  "kernelspec": {
   "display_name": "Python 3 (ipykernel)",
   "language": "python",
   "name": "python3"
  },
  "language_info": {
   "codemirror_mode": {
    "name": "ipython",
    "version": 3
   },
   "file_extension": ".py",
   "mimetype": "text/x-python",
   "name": "python",
   "nbconvert_exporter": "python",
   "pygments_lexer": "ipython3",
   "version": "3.9.13"
  }
 },
 "nbformat": 4,
 "nbformat_minor": 5
}
