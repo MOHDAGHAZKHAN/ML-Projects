{
 "cells": [
  {
   "cell_type": "code",
   "execution_count": 1,
   "id": "cb617ead",
   "metadata": {},
   "outputs": [],
   "source": [
    "import pandas as pd \n",
    "import numpy as np\n",
    "import joblib as jb"
   ]
  },
  {
   "cell_type": "code",
   "execution_count": 2,
   "id": "bf144f27",
   "metadata": {},
   "outputs": [],
   "source": [
    "a=jb.load('loan_prediction.joblib')"
   ]
  },
  {
   "cell_type": "code",
   "execution_count": 4,
   "id": "6e5a06b0",
   "metadata": {},
   "outputs": [
    {
     "name": "stdout",
     "output_type": "stream",
     "text": [
      "the loan is granted [1]\n"
     ]
    },
    {
     "name": "stderr",
     "output_type": "stream",
     "text": [
      "C:\\Users\\91821\\anaconda3\\lib\\site-packages\\sklearn\\base.py:450: UserWarning: X does not have valid feature names, but SVC was fitted with feature names\n",
      "  warnings.warn(\n"
     ]
    }
   ],
   "source": [
    "input_data=(1,1,0,1,1,3000,0.0,66.0,360.0,1.0,1)\n",
    "input_data_as_numpy_array=np.asarray(input_data)\n",
    "input_data_reshaped=input_data_as_numpy_array.reshape(1,-1)\n",
    "prediction=a.predict(input_data_reshaped)\n",
    "if (prediction[0]==0):\n",
    "    print('The loan is not granted',prediction)\n",
    "else:\n",
    "    print('the loan is granted',prediction)"
   ]
  }
 ],
 "metadata": {
  "kernelspec": {
   "display_name": "Python 3 (ipykernel)",
   "language": "python",
   "name": "python3"
  },
  "language_info": {
   "codemirror_mode": {
    "name": "ipython",
    "version": 3
   },
   "file_extension": ".py",
   "mimetype": "text/x-python",
   "name": "python",
   "nbconvert_exporter": "python",
   "pygments_lexer": "ipython3",
   "version": "3.9.13"
  }
 },
 "nbformat": 4,
 "nbformat_minor": 5
}
